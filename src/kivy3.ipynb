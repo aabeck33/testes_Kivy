{
 "cells": [
  {
   "cell_type": "code",
   "execution_count": 1,
   "metadata": {},
   "outputs": [
    {
     "name": "stderr",
     "output_type": "stream",
     "text": [
      "[INFO   ] [Logger      ] Record log in /home/abeck/.kivy/logs/kivy_18-04-22_7.txt\n",
      "[INFO   ] [Factory     ] 194 symbols loaded\n",
      "[INFO   ] [Image       ] Providers: img_tex, img_dds, img_pygame, img_pil, img_gif (img_ffpyplayer ignored)\n",
      "[INFO   ] [Text        ] Provider: pygame\n",
      "[INFO   ] [Kivy        ] v1.10.0\n",
      "[INFO   ] [Python      ] v3.5.5 (default, Feb  6 2018, 10:57:32) \n",
      "[GCC 4.8.5 20150623 (Red Hat 4.8.5-16)]\n",
      "[WARNING] Call to deprecated function __init__ in /home/abeck/.virtualenvs/k35/lib/python3.5/site-packages/kivy/interactive.py line 308.Called from <ipython-input-5-5d91660ef8dd> line 3 by <module>().\n",
      "[INFO   ] [Window      ] Provider: pygame(['window_egl_rpi'] ignored)\n",
      "[WARNING] [WinPygame   ] Video: failed (multisamples=2)\n",
      "[WARNING] [WinPygame   ] trying without antialiasing\n",
      "[INFO   ] [GL          ] Using the \"OpenGL\" graphics system\n",
      "[INFO   ] [GL          ] Backend used <gl>\n",
      "[INFO   ] [GL          ] OpenGL version <b'2.1 Mesa 17.0.1'>\n",
      "[INFO   ] [GL          ] OpenGL vendor <b'VMware, Inc.'>\n",
      "[INFO   ] [GL          ] OpenGL renderer <b'Gallium 0.4 on llvmpipe (LLVM 3.9, 256 bits)'>\n",
      "[INFO   ] [GL          ] OpenGL parsed version: 2, 1\n",
      "[INFO   ] [GL          ] Shading version <b'1.30'>\n",
      "[INFO   ] [GL          ] Texture max size <8192>\n",
      "[INFO   ] [GL          ] Texture max units <32>\n",
      "[INFO   ] [Window      ] virtual keyboard not allowed, single mode, not docked\n",
      "[INFO   ] [OSC         ] using <multiprocessing> for socket\n",
      "[INFO   ] [Base        ] Start application main loop\n",
      "[INFO   ] [GL          ] NPOT texture support is available\n"
     ]
    }
   ],
   "source": [
    "#importação dos paotes das classes\n",
    "from kivy.app import App\n",
    "from kivy.uix.widget import Widget\n",
    "from kivy.interactive import InteractiveLauncher\n",
    "\n",
    "# Alteração da exibição\n",
    "from kivy.config import Config\n",
    "Config.set('graphics', 'fullscreen', '0')\n"
   ]
  },
  {
   "cell_type": "code",
   "execution_count": 4,
   "metadata": {},
   "outputs": [],
   "source": [
    "# Classe da aplicação\n",
    "class EstudoApp(App):\n",
    "    def build(self):\n",
    "        return Widget()"
   ]
  },
  {
   "cell_type": "code",
   "execution_count": 5,
   "metadata": {},
   "outputs": [],
   "source": [
    "# criarinstância da EstudoApp\n",
    "e = EstudoApp()\n",
    "ji = InteractiveLauncher(e)\n",
    "ji.run()"
   ]
  },
  {
   "cell_type": "code",
   "execution_count": 6,
   "metadata": {},
   "outputs": [],
   "source": [
    "from kivy.uix.button import Button\n",
    "bt = Button(text=\"aaBeck\")\n",
    "ji.root.add_widget(bt)"
   ]
  },
  {
   "cell_type": "code",
   "execution_count": 7,
   "metadata": {},
   "outputs": [],
   "source": [
    "def bt_click():\n",
    "    print(\"aaBeck\")"
   ]
  },
  {
   "cell_type": "code",
   "execution_count": 8,
   "metadata": {},
   "outputs": [
    {
     "name": "stdout",
     "output_type": "stream",
     "text": [
      "aaBeck\n",
      "aaBeck\n",
      "aaBeck\n",
      "aaBeck\n",
      "aaBeck\n",
      "aaBeck\n",
      "aaBeck\n",
      "aaBeck\n",
      "aaBeck\n",
      "aaBeck\n",
      "aaBeck\n"
     ]
    }
   ],
   "source": [
    "bt.on_press = bt_click"
   ]
  },
  {
   "cell_type": "code",
   "execution_count": null,
   "metadata": {},
   "outputs": [],
   "source": []
  }
 ],
 "metadata": {
  "kernelspec": {
   "display_name": "Python 3",
   "language": "python",
   "name": "python3"
  },
  "language_info": {
   "codemirror_mode": {
    "name": "ipython",
    "version": 3
   },
   "file_extension": ".py",
   "mimetype": "text/x-python",
   "name": "python",
   "nbconvert_exporter": "python",
   "pygments_lexer": "ipython3",
   "version": "3.5.5"
  }
 },
 "nbformat": 4,
 "nbformat_minor": 2
}
