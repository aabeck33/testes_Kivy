{
 "cells": [
  {
   "cell_type": "code",
   "execution_count": 1,
   "metadata": {},
   "outputs": [
    {
     "name": "stderr",
     "output_type": "stream",
     "text": [
      "[INFO   ] [Logger      ] Record log in /home/abeck/.kivy/logs/kivy_18-04-29_2.txt\n",
      "[INFO   ] [Factory     ] 194 symbols loaded\n",
      "[INFO   ] [Image       ] Providers: img_tex, img_dds, img_pygame, img_pil, img_gif (img_ffpyplayer ignored)\n",
      "[INFO   ] [Text        ] Provider: pygame\n",
      "[INFO   ] [Kivy        ] v1.10.0\n",
      "[INFO   ] [Python      ] v3.5.5 (default, Feb  6 2018, 10:57:32) \n",
      "[GCC 4.8.5 20150623 (Red Hat 4.8.5-16)]\n",
      "[WARNING] Call to deprecated function __init__ in /home/abeck/.virtualenvs/k35/lib/python3.5/site-packages/kivy/interactive.py line 308.Called from <ipython-input-2-675aa09b7785> line 6 by <module>().\n",
      "[INFO   ] [Window      ] Provider: pygame(['window_egl_rpi'] ignored)\n",
      "[WARNING] [WinPygame   ] Video: failed (multisamples=2)\n",
      "[WARNING] [WinPygame   ] trying without antialiasing\n",
      "[INFO   ] [GL          ] Using the \"OpenGL\" graphics system\n",
      "[INFO   ] [GL          ] Backend used <gl>\n",
      "[INFO   ] [GL          ] OpenGL version <b'2.1 Mesa 17.0.1'>\n",
      "[INFO   ] [GL          ] OpenGL vendor <b'VMware, Inc.'>\n",
      "[INFO   ] [GL          ] OpenGL renderer <b'Gallium 0.4 on llvmpipe (LLVM 3.9, 256 bits)'>\n",
      "[INFO   ] [GL          ] OpenGL parsed version: 2, 1\n",
      "[INFO   ] [GL          ] Shading version <b'1.30'>\n",
      "[INFO   ] [GL          ] Texture max size <8192>\n",
      "[INFO   ] [GL          ] Texture max units <32>\n",
      "[INFO   ] [Window      ] virtual keyboard not allowed, single mode, not docked\n",
      "[INFO   ] [OSC         ] using <multiprocessing> for socket\n",
      "[INFO   ] [Base        ] Start application main loop\n",
      "[INFO   ] [GL          ] NPOT texture support is available\n",
      "[INFO   ] [Base        ] Leaving application in progress...\n"
     ]
    }
   ],
   "source": [
    "#!/home/abeck/.virtualenvs/k36/bin/python\n",
    "# -*- coding: utf-8 -*-\n",
    "#author: Alvaro Adriano Beck\n",
    "#notebook: boilerplate\n",
    "\n",
    "__version__ = \"0.1\"\n",
    "\n",
    "#kivy.require(\"1.10.0\")\n",
    "from kivy.app import App\n",
    "from kivy.lang import Builder\n",
    "from kivy.uix.button import Button\n",
    "from kivy.interactive import InteractiveLauncher\n",
    "from kivy.config import Config\n",
    "\n",
    "######\n",
    "#from kivy.uix.image import Image\n",
    "#from kivy.uix.widget import Widget\n",
    "#from kivy.properties import ObjectProperty\n",
    "#from kivy.uix.boxlayout import BoxLayout\n",
    "#from kivy.core.window import Window\n",
    "#from kivy.uix.screenmanager import ScreenManager, Screen, FadeTransition\n",
    "#from kivy.properties import NumericProperty\n",
    "#from kivy.properties import ListProperty\n",
    "######\n",
    "\n",
    "#força a aplicação a não iniciar em tela cheia\n",
    "Config.set(\"graphics\",\"fullscreen\",\"0\")\n",
    "\n",
    "janela = None\n",
    "glayout = None"
   ]
  },
  {
   "cell_type": "code",
   "execution_count": 2,
   "metadata": {},
   "outputs": [],
   "source": [
    "class JanelaApp(App):\n",
    "    pass\n",
    "\n",
    "\n",
    "janela = JanelaApp()\n",
    "ji = InteractiveLauncher( janela )\n",
    "ji.run()"
   ]
  },
  {
   "cell_type": "code",
   "execution_count": 8,
   "metadata": {},
   "outputs": [],
   "source": [
    "kvcode = \"\"\"\n",
    "BoxLayout\n",
    "    Button:\n",
    "        size_hint: .1, .1\n",
    "        #pos_hint: {\"x\":.3, \"top\": 1.}\n",
    "        text: \"A\"\n",
    "    Button:\n",
    "        size_hint: .1, .1\n",
    "        #pos_hint: {\"x\":.3, \"top\": 1.}\n",
    "        text: \"B\"\n",
    "\"\"\"\n",
    "\n",
    "if(janela.root):\n",
    "    janela.root_window.remove_widget( janela.root )\n",
    "    janela.root = None\n",
    "    glayout = None\n",
    "\n",
    "janela.root = glayout = Builder.load_string( kvcode )\n",
    "janela.root_window.add_widget( glayout )"
   ]
  },
  {
   "cell_type": "code",
   "execution_count": null,
   "metadata": {},
   "outputs": [],
   "source": []
  }
 ],
 "metadata": {
  "kernelspec": {
   "display_name": "Python 3",
   "language": "python",
   "name": "python3"
  },
  "language_info": {
   "codemirror_mode": {
    "name": "ipython",
    "version": 3
   },
   "file_extension": ".py",
   "mimetype": "text/x-python",
   "name": "python",
   "nbconvert_exporter": "python",
   "pygments_lexer": "ipython3",
   "version": "3.5.5"
  }
 },
 "nbformat": 4,
 "nbformat_minor": 2
}
