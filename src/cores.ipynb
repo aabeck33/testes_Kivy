{
 "cells": [
  {
   "cell_type": "code",
   "execution_count": null,
   "metadata": {},
   "outputs": [],
   "source": [
    "#!/home/abeck/.virtualenvs/k36/bin/python\n",
    "# -*- coding: utf-8 -*-\n",
    "#author: Alvaro Adriano Beck\n",
    "#notebook: boilerplate\n",
    "\n",
    "__version__ = \"0.1\"\n",
    "\n",
    "#kivy.require(\"1.10.0\")\n",
    "from kivy.app import App\n",
    "from kivy.lang import Builder\n",
    "from kivy.uix.button import Button\n",
    "from kivy.interactive import InteractiveLauncher\n",
    "from kivy.config import Config\n",
    "\n",
    "######\n",
    "#from kivy.uix.image import Image\n",
    "#from kivy.uix.widget import Widget\n",
    "#from kivy.properties import ObjectProperty\n",
    "#from kivy.uix.boxlayout import BoxLayout\n",
    "#from kivy.core.window import Window\n",
    "#from kivy.uix.screenmanager import ScreenManager, Screen, FadeTransition\n",
    "#from kivy.properties import NumericProperty\n",
    "#from kivy.properties import ListProperty\n",
    "######\n",
    "\n",
    "#força a aplicação a não iniciar em tela cheia\n",
    "Config.set(\"graphics\",\"fullscreen\",\"0\")\n",
    "\n",
    "janela = None\n",
    "glayout = None"
   ]
  },
  {
   "cell_type": "code",
   "execution_count": null,
   "metadata": {},
   "outputs": [],
   "source": [
    "class JanelaApp(App):\n",
    "    pass\n",
    "\n",
    "\n",
    "janela = JanelaApp()\n",
    "ji = InteractiveLauncher( janela )\n",
    "ji.run()"
   ]
  },
  {
   "cell_type": "code",
   "execution_count": null,
   "metadata": {},
   "outputs": [],
   "source": [
    "kvcode = \"\"\"\n",
    "#:import C kivy.utils.get_color_from_hex\n",
    "\n",
    "FloatLayout\n",
    "    Button:\n",
    "        size_hint: .3,.3\n",
    "        pos_hint: {\"center_x\":.5,\"center_y\":.5}\n",
    "        text: \"A\"\n",
    "        bold: True\n",
    "        color: C(\"#FFFF00\")\n",
    "        #background_color: 0,.2,.1,1\n",
    "        background_color: C(\"#335500\")\n",
    "        background_normal: \"\"\n",
    "    Button:\n",
    "        size_hint: .25,.25\n",
    "        pos_hint: {\"x\":.2,\"y\":.2}\n",
    "        text: \"B\"\n",
    "        background_color: .8,.1,.8,.4\n",
    "        background_normal: \"\"\n",
    "    Button:\n",
    "        size_hint: .25,.25\n",
    "        pos_hint: {\"x\":.2,\"y\":.55}\n",
    "        text: \"C\"\n",
    "        background_color: .5,.2,.7,.4\n",
    "        background_normal: \"\"\n",
    "    Button:\n",
    "        size_hint: .25,.25\n",
    "        pos_hint: {\"x\":.55,\"y\":.55}\n",
    "        text: \"D\"\n",
    "        background_color: .2,.4,.8,.4\n",
    "        background_normal: \"\"\n",
    "    Button:\n",
    "        size_hint: .25,.25\n",
    "        pos_hint: {\"x\":.55,\"y\":.2}\n",
    "        text: \"E\"\n",
    "        background_color: .8,.6,.3,.4\n",
    "        background_normal: \"\"\n",
    "\"\"\"\n",
    "\n",
    "if(janela.root):\n",
    "    janela.root_window.remove_widget( janela.root )\n",
    "    janela.root = None\n",
    "    glayout = None\n",
    "\n",
    "janela.root = glayout = Builder.load_string( kvcode )\n",
    "janela.root_window.add_widget( glayout )"
   ]
  },
  {
   "cell_type": "code",
   "execution_count": null,
   "metadata": {},
   "outputs": [],
   "source": [
    "from kivy.utils import get_color_from_hex\n",
    "get_color_from_hex(\"#FFFFFF\")"
   ]
  },
  {
   "cell_type": "code",
   "execution_count": null,
   "metadata": {},
   "outputs": [],
   "source": [
    "janela.root.add_widget(Button(text=\"X\",size_hint=(.1,.1),pos_hint={\"x\":.1,\"y\":.2},background_color=(1,1,1,.3)))"
   ]
  },
  {
   "cell_type": "code",
   "execution_count": null,
   "metadata": {},
   "outputs": [],
   "source": [
    "kvcode2 = \"\"\"\n",
    "#:import C kivy.utils.get_color_from_hex\n",
    "\n",
    "FloatLayout\n",
    "    Button:\n",
    "        size_hint: .1,.2\n",
    "        text: \"outro\"\n",
    "\"\"\"\n",
    "meuteste = None\n",
    "janela.root = meuteste = Builder.load_string( kvcode2 )\n",
    "janela.root_window.add_widget( meuteste )"
   ]
  },
  {
   "cell_type": "code",
   "execution_count": null,
   "metadata": {},
   "outputs": [],
   "source": [
    "janela.root_windows."
   ]
  }
 ],
 "metadata": {
  "kernelspec": {
   "display_name": "Python 3",
   "language": "python",
   "name": "python3"
  },
  "language_info": {
   "codemirror_mode": {
    "name": "ipython",
    "version": 3
   },
   "file_extension": ".py",
   "mimetype": "text/x-python",
   "name": "python",
   "nbconvert_exporter": "python",
   "pygments_lexer": "ipython3",
   "version": "3.5.5"
  }
 },
 "nbformat": 4,
 "nbformat_minor": 2
}
